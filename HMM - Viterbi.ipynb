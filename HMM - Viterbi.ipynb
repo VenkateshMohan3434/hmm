{
 "cells": [
  {
   "cell_type": "code",
   "execution_count": 94,
   "metadata": {},
   "outputs": [],
   "source": [
    "import numpy as np\n",
    "import pandas as pd"
   ]
  },
  {
   "cell_type": "code",
   "execution_count": 95,
   "metadata": {},
   "outputs": [],
   "source": [
    "obs_map = {'Cold':0, 'Hot':1}\n",
    "obs = np.array([1,1,0,1,0,0,1,0,1,1,0,0,0,1])"
   ]
  },
  {
   "cell_type": "code",
   "execution_count": 96,
   "metadata": {},
   "outputs": [],
   "source": [
    "inv_obs_map = dict((v, k) for k, v in obs_map.items())\n",
    "obs_seq = [inv_obs_map[v] for v in list(obs)]"
   ]
  },
  {
   "cell_type": "code",
   "execution_count": 97,
   "metadata": {
    "scrolled": false
   },
   "outputs": [
    {
     "name": "stdout",
     "output_type": "stream",
     "text": [
      "Simulated Observations:\n",
      "    Obs_code Obs_seq\n",
      "0         1     Hot\n",
      "1         1     Hot\n",
      "2         0    Cold\n",
      "3         1     Hot\n",
      "4         0    Cold\n",
      "5         0    Cold\n",
      "6         1     Hot\n",
      "7         0    Cold\n",
      "8         1     Hot\n",
      "9         1     Hot\n",
      "10        0    Cold\n",
      "11        0    Cold\n",
      "12        0    Cold\n",
      "13        1     Hot\n"
     ]
    }
   ],
   "source": [
    "print(\"Simulated Observations:\\n\", pd.DataFrame(np.column_stack([obs, obs_seq]), columns = ['Obs_code', 'Obs_seq']))"
   ]
  },
  {
   "cell_type": "code",
   "execution_count": 99,
   "metadata": {
    "scrolled": false
   },
   "outputs": [
    {
     "name": "stdout",
     "output_type": "stream",
     "text": [
      "\n",
      "Transition Matrix:\n",
      "          Snow  Rain Sunshine\n",
      "Snow      0.3   0.3      0.4\n",
      "Rain      0.1  0.45     0.45\n",
      "Sunshine  0.2   0.3      0.5\n"
     ]
    }
   ],
   "source": [
    "states = ['Cold', 'Hot']\n",
    "hidden_states = ['Snow', 'Rain', 'Sunshine']\n",
    "pi = [0, 0.2, 0.8]\n",
    "state_space = pd.Series(pi, index = hidden_states, name = 'States')\n",
    "a_df = pd.DataFrame(columns=hidden_states, index=hidden_states)\n",
    "a_df.loc[hidden_states[0]] = [0.3, 0.3, 0.4]\n",
    "a_df.loc[hidden_states[1]] = [0.1, 0.45, 0.45]\n",
    "a_df.loc[hidden_states[2]] = [0.2, 0.3, 0.5]\n",
    "print('\\nTransition Matrix:\\n', a_df)\n",
    "a = a_df.values"
   ]
  },
  {
   "cell_type": "code",
   "execution_count": 52,
   "metadata": {},
   "outputs": [
    {
     "name": "stdout",
     "output_type": "stream",
     "text": [
      "\n",
      "Observable Layer Matrix:\n",
      "          Cold  Hot\n",
      "Snow        1    0\n",
      "Rain      0.8  0.2\n",
      "Sunshine  0.3  0.7\n"
     ]
    }
   ],
   "source": [
    "observable_states = states\n",
    "b_df = pd.DataFrame(columns=observable_states, index=hidden_states)\n",
    "b_df.loc[hidden_states[0]] = [1,0]\n",
    "b_df.loc[hidden_states[1]] = [0.8, 0.2]\n",
    "b_df.loc[hidden_states[2]] = [0.3, 0.7]\n",
    "print('\\nObservable Layer Matrix:\\n', b_df)\n",
    "b = b_df.values"
   ]
  },
  {
   "cell_type": "code",
   "execution_count": 90,
   "metadata": {},
   "outputs": [],
   "source": [
    "def viterbi(pi, a, b, obs):\n",
    "    nStates = np.shape(b)[0]\n",
    "    T = np.shape(obs)[0]\n",
    "    \n",
    "    path = np.zeros(T, dtype = int)\n",
    "    delta = np.zeros((nStates, T))\n",
    "    phi = np.zeros((nStates, T))\n",
    "    \n",
    "    delta[:, 0] = pi * b[:, obs[0]] \n",
    "    phi[:, 0] = 0\n",
    "    \n",
    "    print('\\nStart Walk Forward\\n')\n",
    "    for t in range(1,T):\n",
    "        for s in range(nStates):\n",
    "            delta[s, t] = np.max(delta[:, t-1] * a[:, s]) * b[s, obs[t]]\n",
    "            phi[s, t] = np.argmax(delta[:, t-1] * a[:, s])\n",
    "            print('s={s} and t={t}: phi[{s}, {t}] = {phi}'.format(s=s, t=t, phi=phi[s, t]))\n",
    "    print('-'*50)\n",
    "    print('Start Backtrace\\n')\n",
    "    path[T-1] = np.argmax(delta[:, T-1])\n",
    "    print('path[{}] = {}'.format(T-1, path[T-1]))\n",
    "    for t in range(T-2, -1, -1):\n",
    "        path[t] = phi[path[t+1], t+1]\n",
    "        print('path[{}] = {}'.format(t, path[t]))\n",
    "        \n",
    "    return path, delta, phi"
   ]
  },
  {
   "cell_type": "code",
   "execution_count": 100,
   "metadata": {},
   "outputs": [
    {
     "name": "stdout",
     "output_type": "stream",
     "text": [
      "\n",
      "Start Walk Forward\n",
      "\n",
      "s=0 and t=1: phi[0, 1] = 2.0\n",
      "s=1 and t=1: phi[1, 1] = 2.0\n",
      "s=2 and t=1: phi[2, 1] = 2.0\n",
      "s=0 and t=2: phi[0, 2] = 2.0\n",
      "s=1 and t=2: phi[1, 2] = 2.0\n",
      "s=2 and t=2: phi[2, 2] = 2.0\n",
      "s=0 and t=3: phi[0, 3] = 0.0\n",
      "s=1 and t=3: phi[1, 3] = 1.0\n",
      "s=2 and t=3: phi[2, 3] = 1.0\n",
      "s=0 and t=4: phi[0, 4] = 2.0\n",
      "s=1 and t=4: phi[1, 4] = 2.0\n",
      "s=2 and t=4: phi[2, 4] = 2.0\n",
      "s=0 and t=5: phi[0, 5] = 0.0\n",
      "s=1 and t=5: phi[1, 5] = 1.0\n",
      "s=2 and t=5: phi[2, 5] = 1.0\n",
      "s=0 and t=6: phi[0, 6] = 0.0\n",
      "s=1 and t=6: phi[1, 6] = 1.0\n",
      "s=2 and t=6: phi[2, 6] = 1.0\n",
      "s=0 and t=7: phi[0, 7] = 2.0\n",
      "s=1 and t=7: phi[1, 7] = 2.0\n",
      "s=2 and t=7: phi[2, 7] = 2.0\n",
      "s=0 and t=8: phi[0, 8] = 0.0\n",
      "s=1 and t=8: phi[1, 8] = 1.0\n",
      "s=2 and t=8: phi[2, 8] = 1.0\n",
      "s=0 and t=9: phi[0, 9] = 2.0\n",
      "s=1 and t=9: phi[1, 9] = 2.0\n",
      "s=2 and t=9: phi[2, 9] = 2.0\n",
      "s=0 and t=10: phi[0, 10] = 2.0\n",
      "s=1 and t=10: phi[1, 10] = 2.0\n",
      "s=2 and t=10: phi[2, 10] = 2.0\n",
      "s=0 and t=11: phi[0, 11] = 0.0\n",
      "s=1 and t=11: phi[1, 11] = 1.0\n",
      "s=2 and t=11: phi[2, 11] = 1.0\n",
      "s=0 and t=12: phi[0, 12] = 0.0\n",
      "s=1 and t=12: phi[1, 12] = 1.0\n",
      "s=2 and t=12: phi[2, 12] = 1.0\n",
      "s=0 and t=13: phi[0, 13] = 0.0\n",
      "s=1 and t=13: phi[1, 13] = 1.0\n",
      "s=2 and t=13: phi[2, 13] = 1.0\n",
      "--------------------------------------------------\n",
      "Start Backtrace\n",
      "\n",
      "path[13] = 2\n",
      "path[12] = 1\n",
      "path[11] = 1\n",
      "path[10] = 1\n",
      "path[9] = 2\n",
      "path[8] = 2\n",
      "path[7] = 1\n",
      "path[6] = 2\n",
      "path[5] = 1\n",
      "path[4] = 1\n",
      "path[3] = 2\n",
      "path[2] = 1\n",
      "path[1] = 2\n",
      "path[0] = 2\n",
      "[[0.00000000e+00 0.00000000e+00 3.92000000e-02 0.00000000e+00\n",
      "  2.96352000e-03 8.89056000e-04 0.00000000e+00 8.06551603e-05\n",
      "  0.00000000e+00 0.00000000e+00 2.13413554e-06 6.40240663e-07\n",
      "  1.92072199e-07 0.00000000e+00]\n",
      " [4.00000000e-02 3.36000000e-02 4.70400000e-02 4.23360000e-03\n",
      "  3.55622400e-03 1.28024064e-03 1.15221658e-04 9.67861924e-05\n",
      "  8.71075731e-06 1.82925904e-06 2.56096265e-06 9.21946554e-07\n",
      "  3.31900760e-07 2.98710684e-08]\n",
      " [5.60000000e-01 1.96000000e-01 2.94000000e-02 1.48176000e-02\n",
      "  2.22264000e-03 4.80090240e-04 4.03275802e-04 6.04913702e-05\n",
      "  3.04876506e-05 1.06706777e-05 1.60060166e-06 3.45729958e-07\n",
      "  1.24462785e-07 1.04548739e-07]]\n"
     ]
    },
    {
     "data": {
      "text/html": [
       "<div>\n",
       "<style scoped>\n",
       "    .dataframe tbody tr th:only-of-type {\n",
       "        vertical-align: middle;\n",
       "    }\n",
       "\n",
       "    .dataframe tbody tr th {\n",
       "        vertical-align: top;\n",
       "    }\n",
       "\n",
       "    .dataframe thead th {\n",
       "        text-align: right;\n",
       "    }\n",
       "</style>\n",
       "<table border=\"1\" class=\"dataframe\">\n",
       "  <thead>\n",
       "    <tr style=\"text-align: right;\">\n",
       "      <th></th>\n",
       "      <th>Observation</th>\n",
       "      <th>Best_Path</th>\n",
       "    </tr>\n",
       "  </thead>\n",
       "  <tbody>\n",
       "    <tr>\n",
       "      <th>0</th>\n",
       "      <td>Hot</td>\n",
       "      <td>Sunshine</td>\n",
       "    </tr>\n",
       "    <tr>\n",
       "      <th>1</th>\n",
       "      <td>Hot</td>\n",
       "      <td>Sunshine</td>\n",
       "    </tr>\n",
       "    <tr>\n",
       "      <th>2</th>\n",
       "      <td>Cold</td>\n",
       "      <td>Rain</td>\n",
       "    </tr>\n",
       "    <tr>\n",
       "      <th>3</th>\n",
       "      <td>Hot</td>\n",
       "      <td>Sunshine</td>\n",
       "    </tr>\n",
       "    <tr>\n",
       "      <th>4</th>\n",
       "      <td>Cold</td>\n",
       "      <td>Rain</td>\n",
       "    </tr>\n",
       "    <tr>\n",
       "      <th>5</th>\n",
       "      <td>Cold</td>\n",
       "      <td>Rain</td>\n",
       "    </tr>\n",
       "    <tr>\n",
       "      <th>6</th>\n",
       "      <td>Hot</td>\n",
       "      <td>Sunshine</td>\n",
       "    </tr>\n",
       "    <tr>\n",
       "      <th>7</th>\n",
       "      <td>Cold</td>\n",
       "      <td>Rain</td>\n",
       "    </tr>\n",
       "    <tr>\n",
       "      <th>8</th>\n",
       "      <td>Hot</td>\n",
       "      <td>Sunshine</td>\n",
       "    </tr>\n",
       "    <tr>\n",
       "      <th>9</th>\n",
       "      <td>Hot</td>\n",
       "      <td>Sunshine</td>\n",
       "    </tr>\n",
       "    <tr>\n",
       "      <th>10</th>\n",
       "      <td>Cold</td>\n",
       "      <td>Rain</td>\n",
       "    </tr>\n",
       "    <tr>\n",
       "      <th>11</th>\n",
       "      <td>Cold</td>\n",
       "      <td>Rain</td>\n",
       "    </tr>\n",
       "    <tr>\n",
       "      <th>12</th>\n",
       "      <td>Cold</td>\n",
       "      <td>Rain</td>\n",
       "    </tr>\n",
       "    <tr>\n",
       "      <th>13</th>\n",
       "      <td>Hot</td>\n",
       "      <td>Sunshine</td>\n",
       "    </tr>\n",
       "  </tbody>\n",
       "</table>\n",
       "</div>"
      ],
      "text/plain": [
       "   Observation Best_Path\n",
       "0          Hot  Sunshine\n",
       "1          Hot  Sunshine\n",
       "2         Cold      Rain\n",
       "3          Hot  Sunshine\n",
       "4         Cold      Rain\n",
       "5         Cold      Rain\n",
       "6          Hot  Sunshine\n",
       "7         Cold      Rain\n",
       "8          Hot  Sunshine\n",
       "9          Hot  Sunshine\n",
       "10        Cold      Rain\n",
       "11        Cold      Rain\n",
       "12        Cold      Rain\n",
       "13         Hot  Sunshine"
      ]
     },
     "execution_count": 100,
     "metadata": {},
     "output_type": "execute_result"
    }
   ],
   "source": [
    "path, delta, phi = viterbi(pi, a, b, obs)\n",
    "print(delta)\n",
    "state_map = {0:'Snow', 1:'Rain', 2:'Sunshine'}\n",
    "state_path = [state_map[v] for v in path]\n",
    "pd.DataFrame().assign(Observation=obs_seq).assign(Best_Path=state_path)"
   ]
  },
  {
   "cell_type": "code",
   "execution_count": null,
   "metadata": {},
   "outputs": [],
   "source": []
  }
 ],
 "metadata": {
  "kernelspec": {
   "display_name": "Python 3",
   "language": "python",
   "name": "python3"
  },
  "language_info": {
   "codemirror_mode": {
    "name": "ipython",
    "version": 3
   },
   "file_extension": ".py",
   "mimetype": "text/x-python",
   "name": "python",
   "nbconvert_exporter": "python",
   "pygments_lexer": "ipython3",
   "version": "3.5.2"
  }
 },
 "nbformat": 4,
 "nbformat_minor": 2
}
